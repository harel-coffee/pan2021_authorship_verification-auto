{
 "cells": [
  {
   "cell_type": "code",
   "execution_count": null,
   "metadata": {},
   "outputs": [],
   "source": [
    "import os\n",
    "import pickle\n",
    "import json\n",
    "import glob\n",
    "from tqdm.auto import trange, tqdm\n",
    "import numpy as np\n",
    "from features import prepare_entry"
   ]
  },
  {
   "cell_type": "code",
   "execution_count": 2,
   "metadata": {
    "collapsed": true
   },
   "outputs": [],
   "source": [
    "DATA_DIR = 'data/small/'\n",
    "GROUND_TRUTH_PATH = DATA_DIR + 'pan20-authorship-verification-training-small-truth.jsonl'\n",
    "DATA_PATH = DATA_DIR + 'pan20-authorship-verification-training-small.jsonl'\n",
    "TEMP_DATA_PATH = 'temp_data/small_model_training_data/'"
   ]
  },
  {
   "cell_type": "code",
   "execution_count": null,
   "metadata": {},
   "outputs": [],
   "source": [
    "train_ids, test_ids, _, _ = pickle.load(open(TEMP_DATA_PATH + 'dataset_partition.p', 'rb'))"
   ]
  },
  {
   "cell_type": "markdown",
   "metadata": {},
   "source": [
    "Code to run this locally\n",
    "==="
   ]
  },
  {
   "cell_type": "code",
   "execution_count": null,
   "metadata": {
    "collapsed": true,
    "scrolled": true
   },
   "outputs": [],
   "source": [
    "\n",
    "with open(DATA_PATH, 'r') as f, \\\n",
    "    open(TEMP_DATA_PATH + 'preprocessed_train.jsonl', 'w') as f_train, \\\n",
    "    open(TEMP_DATA_PATH + 'preprocessed_test.jsonl', 'w') as f_test:\n",
    "    for l in tqdm(f, total=len(train_ids) + len(test_ids)):\n",
    "        d = json.loads(l)\n",
    "        preprocessed = {\n",
    "            'id': d['id'],\n",
    "            'fandoms': d['fandoms'],\n",
    "            'pair': [\n",
    "                prepare_entry(d['pair'][0], mode='accurate', tokenizer='casual'),\n",
    "                prepare_entry(d['pair'][1], mode='accurate', tokenizer='casual')\n",
    "            ]\n",
    "        }\n",
    "        if d['id'] in train_ids:\n",
    "            json.dump(preprocessed, f_train)\n",
    "            f_train.write('\\n')\n",
    "        else:\n",
    "            json.dump(preprocessed, f_test)\n",
    "            f_test.write('\\n')"
   ]
  },
  {
   "cell_type": "markdown",
   "metadata": {},
   "source": [
    "Merge HPC-Preprocessed Files\n",
    "===\n",
    "\n",
    "Only run this if the preprocessing was done in the HPC"
   ]
  },
  {
   "cell_type": "code",
   "execution_count": 3,
   "metadata": {
    "collapsed": true
   },
   "outputs": [],
   "source": [
    "from preprocess_hpc import NUM_MACHINES"
   ]
  },
  {
   "cell_type": "code",
   "execution_count": 4,
   "metadata": {},
   "outputs": [
    {
     "data": {
      "application/vnd.jupyter.widget-view+json": {
       "model_id": "58c15b808c284a198ec6e793be282da8"
      }
     },
     "metadata": {},
     "output_type": "display_data"
    },
    {
     "name": "stdout",
     "output_type": "stream",
     "text": [
      "\n"
     ]
    }
   ],
   "source": [
    "with open(TEMP_DATA_PATH + 'preprocessed_train.jsonl', 'w') as f_train:\n",
    "    for i in trange(NUM_MACHINES):\n",
    "        with open(TEMP_DATA_PATH + 'preprocessed_train_' + str(i) + '.jsonl', 'r') as f:\n",
    "            for l in f:\n",
    "                _ = f_train.write(l)"
   ]
  },
  {
   "cell_type": "code",
   "execution_count": 5,
   "metadata": {},
   "outputs": [
    {
     "data": {
      "application/vnd.jupyter.widget-view+json": {
       "model_id": "f32e0b00aaa44a8c83dd467291925fe2"
      }
     },
     "metadata": {},
     "output_type": "display_data"
    },
    {
     "name": "stdout",
     "output_type": "stream",
     "text": [
      "\n"
     ]
    }
   ],
   "source": [
    "with open(TEMP_DATA_PATH + 'preprocessed_test.jsonl', 'w') as f_test:\n",
    "    for i in trange(NUM_MACHINES):\n",
    "        with open(TEMP_DATA_PATH + 'preprocessed_test_' + str(i) + '.jsonl', 'r') as f:\n",
    "            for l in f:\n",
    "                _ = f_test.write(l)"
   ]
  }
 ],
 "metadata": {
  "kernelspec": {
   "display_name": "Python 3",
   "language": "python",
   "name": "python3"
  },
  "language_info": {
   "codemirror_mode": {
    "name": "ipython",
    "version": 3
   },
   "file_extension": ".py",
   "mimetype": "text/x-python",
   "name": "python",
   "nbconvert_exporter": "python",
   "pygments_lexer": "ipython3",
   "version": "3.6.9"
  }
 },
 "nbformat": 4,
 "nbformat_minor": 2
}
