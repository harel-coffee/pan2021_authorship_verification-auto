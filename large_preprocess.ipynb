{
 "cells": [
  {
   "cell_type": "code",
   "execution_count": 5,
   "metadata": {},
   "outputs": [],
   "source": [
    "import os\n",
    "import pickle\n",
    "import json\n",
    "import glob\n",
    "from tqdm.auto import trange, tqdm\n",
    "import numpy as np\n",
    "from features import prepare_entry"
   ]
  },
  {
   "cell_type": "code",
   "execution_count": 3,
   "metadata": {
    "collapsed": true
   },
   "outputs": [],
   "source": [
    "DATA_DIR = '/media/disk1/social/troll_tweets/data/pan_clustering/pan20_large/'\n",
    "GROUND_TRUTH_PATH = DATA_DIR + 'pan20-authorship-verification-training-large-truth.jsonl'\n",
    "DATA_PATH = DATA_DIR + 'pan20-authorship-verification-training-large.jsonl'\n",
    "TEMP_DATA_PATH = 'temp_data/large_model_training_data/'\n",
    "\n",
    "PREVIOUS_PREPROCESSED_DATA_PATH = '/media/disk1/social/reddit_authorship_verification/temp_data/pan2020/'"
   ]
  },
  {
   "cell_type": "code",
   "execution_count": 3,
   "metadata": {
    "collapsed": true
   },
   "outputs": [],
   "source": [
    "train_ids, test_ids, _, _ = pickle.load(open(TEMP_DATA_PATH + 'dataset_partition.p', 'rb'))"
   ]
  },
  {
   "cell_type": "code",
   "execution_count": 7,
   "metadata": {},
   "outputs": [
    {
     "data": {
      "application/vnd.jupyter.widget-view+json": {
       "model_id": "7b439b960b814a88a2b726a26d11b4be"
      }
     },
     "metadata": {},
     "output_type": "display_data"
    },
    {
     "name": "stdout",
     "output_type": "stream",
     "text": [
      "\n"
     ]
    }
   ],
   "source": [
    "# Lets use the previously preprocessed records and split them for the open-world setting\n",
    "\n",
    "fandoms = {}\n",
    "with open(DATA_PATH, 'r') as f:\n",
    "    for l in tqdm(f):\n",
    "        d = json.loads(l) \n",
    "        fandoms[d['id']] = d['fandoms']"
   ]
  },
  {
   "cell_type": "code",
   "execution_count": 12,
   "metadata": {},
   "outputs": [
    {
     "data": {
      "application/vnd.jupyter.widget-view+json": {
       "model_id": "53948dbb0b054d858d0861cc7059ddd8"
      }
     },
     "metadata": {},
     "output_type": "display_data"
    },
    {
     "name": "stdout",
     "output_type": "stream",
     "text": [
      "\n"
     ]
    },
    {
     "data": {
      "application/vnd.jupyter.widget-view+json": {
       "model_id": "a9a0ea4015e5464ab29dd0162650c170"
      }
     },
     "metadata": {},
     "output_type": "display_data"
    },
    {
     "name": "stdout",
     "output_type": "stream",
     "text": [
      "\n"
     ]
    },
    {
     "data": {
      "application/vnd.jupyter.widget-view+json": {
       "model_id": "6131e06d82e24ca8af1be1bd27b4f0d3"
      }
     },
     "metadata": {},
     "output_type": "display_data"
    },
    {
     "name": "stdout",
     "output_type": "stream",
     "text": [
      "\n"
     ]
    }
   ],
   "source": [
    "\n",
    "with open(PREVIOUS_PREPROCESSED_DATA_PATH + 'preprocessed_train.jsonl', 'r') as f, \\\n",
    "    open(TEMP_DATA_PATH + 'preprocessed_train.jsonl', 'w') as f_train, \\\n",
    "    open(TEMP_DATA_PATH + 'preprocessed_test.jsonl', 'w') as f_test:\n",
    "    for l in tqdm(f):\n",
    "        d = json.loads(l)\n",
    "        preprocessed = {\n",
    "            'id': d['id'],\n",
    "            'fandoms': fandoms[d['id']],\n",
    "            'pair': [\n",
    "                d['doc1'],\n",
    "                d['doc2']\n",
    "            ]\n",
    "        }\n",
    "        if d['id'] in train_ids:\n",
    "            json.dump(preprocessed, f_train)\n",
    "            f_train.write('\\n')\n",
    "        else:\n",
    "            json.dump(preprocessed, f_test)\n",
    "            f_test.write('\\n')\n",
    "            \n",
    "with open(PREVIOUS_PREPROCESSED_DATA_PATH + 'preprocessed_val.jsonl', 'r') as f, \\\n",
    "    open(TEMP_DATA_PATH + 'preprocessed_train.jsonl', 'a+') as f_train, \\\n",
    "    open(TEMP_DATA_PATH + 'preprocessed_test.jsonl', 'a+') as f_test:\n",
    "    for l in tqdm(f):\n",
    "        d = json.loads(l)\n",
    "        preprocessed = {\n",
    "            'id': d['id'],\n",
    "            'fandoms': fandoms[d['id']],\n",
    "            'pair': [\n",
    "                d['doc1'],\n",
    "                d['doc2']\n",
    "            ]\n",
    "        }\n",
    "        if d['id'] in train_ids:\n",
    "            json.dump(preprocessed, f_train)\n",
    "            f_train.write('\\n')\n",
    "        else:\n",
    "            json.dump(preprocessed, f_test)\n",
    "            f_test.write('\\n')\n",
    "            \n",
    "            \n",
    "with open(PREVIOUS_PREPROCESSED_DATA_PATH + 'preprocessed_test.jsonl', 'r') as f, \\\n",
    "    open(TEMP_DATA_PATH + 'preprocessed_train.jsonl', 'a+') as f_train, \\\n",
    "    open(TEMP_DATA_PATH + 'preprocessed_test.jsonl', 'a+') as f_test:\n",
    "    for l in tqdm(f):\n",
    "        d = json.loads(l)\n",
    "        preprocessed = {\n",
    "            'id': d['id'],\n",
    "            'fandoms': fandoms[d['id']],\n",
    "            'pair': [\n",
    "                d['doc1'],\n",
    "                d['doc2']\n",
    "            ]\n",
    "        }\n",
    "        if d['id'] in train_ids:\n",
    "            json.dump(preprocessed, f_train)\n",
    "            f_train.write('\\n')\n",
    "        else:\n",
    "            json.dump(preprocessed, f_test)\n",
    "            f_test.write('\\n')"
   ]
  },
  {
   "cell_type": "code",
   "execution_count": 1,
   "metadata": {},
   "outputs": [
    {
     "name": "stderr",
     "output_type": "stream",
     "text": [
      "/usr/local/lib/python3.6/dist-packages/h5py/__init__.py:34: FutureWarning: Conversion of the second argument of issubdtype from `float` to `np.floating` is deprecated. In future, it will be treated as `np.float64 == np.dtype(float).type`.\n",
      "  from ._conv import register_converters as _register_converters\n",
      "2021-04-13 10:35:36 INFO: Loading these models for language: en (English):\n",
      "========================\n",
      "| Processor | Package  |\n",
      "------------------------\n",
      "| tokenize  | combined |\n",
      "========================\n",
      "\n",
      "2021-04-13 10:35:36 INFO: Use device: cpu\n",
      "2021-04-13 10:35:36 INFO: Loading: tokenize\n",
      "2021-04-13 10:35:36 INFO: Done loading processors!\n"
     ]
    }
   ],
   "source": [
    "from preprocess_hpc import NUM_MACHINES"
   ]
  },
  {
   "cell_type": "code",
   "execution_count": 7,
   "metadata": {},
   "outputs": [
    {
     "data": {
      "application/vnd.jupyter.widget-view+json": {
       "model_id": "6c483a2c076c4726bce5114d02ba6d0d"
      }
     },
     "metadata": {},
     "output_type": "display_data"
    },
    {
     "name": "stdout",
     "output_type": "stream",
     "text": [
      "\n"
     ]
    },
    {
     "data": {
      "application/vnd.jupyter.widget-view+json": {
       "model_id": "f77a3966b9a74573b0ddaaa20e95c90c"
      }
     },
     "metadata": {},
     "output_type": "display_data"
    },
    {
     "name": "stdout",
     "output_type": "stream",
     "text": [
      "\n"
     ]
    }
   ],
   "source": [
    "with open(TEMP_DATA_PATH + 'split_preprocessed_train.jsonl', 'w') as f_train:\n",
    "    for i in trange(NUM_MACHINES):\n",
    "        with open(TEMP_DATA_PATH + 'split_preprocessed_train_' + str(i) + '.jsonl', 'r') as f:\n",
    "            for l in f:\n",
    "                f_train.write(l)\n",
    "                \n",
    "with open(TEMP_DATA_PATH + 'split_preprocessed_test.jsonl', 'w') as f_test:\n",
    "    for i in trange(NUM_MACHINES):\n",
    "        with open(TEMP_DATA_PATH + 'split_preprocessed_test_' + str(i) + '.jsonl', 'r') as f:\n",
    "            for l in f:\n",
    "                f_test.write(l)"
   ]
  }
 ],
 "metadata": {
  "kernelspec": {
   "display_name": "Python 3",
   "language": "python",
   "name": "python3"
  },
  "language_info": {
   "codemirror_mode": {
    "name": "ipython",
    "version": 3
   },
   "file_extension": ".py",
   "mimetype": "text/x-python",
   "name": "python",
   "nbconvert_exporter": "python",
   "pygments_lexer": "ipython3",
   "version": "3.6.9"
  }
 },
 "nbformat": 4,
 "nbformat_minor": 2
}
